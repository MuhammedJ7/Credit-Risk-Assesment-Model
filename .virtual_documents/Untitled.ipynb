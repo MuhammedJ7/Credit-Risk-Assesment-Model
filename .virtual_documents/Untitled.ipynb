import pandas
import numpy as np 
import seaborn as sns
import matplotlib.pylot as plt


train
test
