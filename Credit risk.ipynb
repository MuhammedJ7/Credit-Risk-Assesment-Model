{
 "cells": [
  {
   "cell_type": "code",
   "execution_count": 9,
   "id": "9fcf32a7-b828-4f74-8d87-529b583df0e6",
   "metadata": {},
   "outputs": [],
   "source": [
    "import pandas as pd\n",
    "import numpy as np \n",
    "import seaborn as sns\n",
    "import matplotlib.pyplot as plt"
   ]
  },
  {
   "cell_type": "code",
   "execution_count": 11,
   "id": "edc365a6-cf67-49b6-86a8-13bdb01845dd",
   "metadata": {},
   "outputs": [],
   "source": [
    "train = pd.read_csv('cs-training.csv').drop(['Unnamed: 0'], axis =1 ) #dropping serial number column                   \n",
    "test = pd.read_csv('cs-test.csv').drop(['Unnamed: 0'], axis =1 )"
   ]
  },
  {
   "cell_type": "code",
   "execution_count": 25,
   "id": "35cf9100-eeb7-441e-bc97-dbaff0b376f3",
   "metadata": {},
   "outputs": [
    {
     "data": {
      "text/plain": [
       "(149391, 11)"
      ]
     },
     "execution_count": 25,
     "metadata": {},
     "output_type": "execute_result"
    }
   ],
   "source": [
    "#train.head() # viewing dataframe\n",
    "train.duplicated().value_counts() # 609 duplicate values\n",
    "train_redup = train.drop_duplicates() # deleting duplicates \n",
    "train_redup.duplicated().value_counts() # no more duplicates \n",
    "train.shape # originally 150,000 data records with 11 columns\n",
    "train_redup.shape # after removing duplicates 149391 data records with 11 columns "
   ]
  },
  {
   "cell_type": "code",
   "execution_count": 33,
   "id": "8493dac9-6604-4fc7-a827-950b71c33fd2",
   "metadata": {},
   "outputs": [],
   "source": [
    "def findmiss (df) :\n",
    "    return round (df.isnull().sum()/df.shape[0]*100,2)\n",
    "#function to calcualte percentage of missing values for a dataframe \n",
    "#findmiss (train_redup)"
   ]
  },
  {
   "cell_type": "code",
   "execution_count": 37,
   "id": "5871801f-f566-43e5-9121-365127d6aa1c",
   "metadata": {},
   "outputs": [],
   "source": [
    "fam_miss = train_redup[train_redup.NumberOfDependents.isnull()]\n",
    "fam_nmiss = train_redup[train_redup.NumberOfDependents.notnull()]"
   ]
  },
  {
   "cell_type": "code",
   "execution_count": null,
   "id": "ea2e0f47-d192-4e21-9321-701010507ad6",
   "metadata": {},
   "outputs": [],
   "source": [
    "fam_miss ['NumberOfDependents']= fam_miss['NumberOfDependents'].fillna(0)"
   ]
  }
 ],
 "metadata": {
  "kernelspec": {
   "display_name": "Python 3 (ipykernel)",
   "language": "python",
   "name": "python3"
  },
  "language_info": {
   "codemirror_mode": {
    "name": "ipython",
    "version": 3
   },
   "file_extension": ".py",
   "mimetype": "text/x-python",
   "name": "python",
   "nbconvert_exporter": "python",
   "pygments_lexer": "ipython3",
   "version": "3.11.7"
  }
 },
 "nbformat": 4,
 "nbformat_minor": 5
}
